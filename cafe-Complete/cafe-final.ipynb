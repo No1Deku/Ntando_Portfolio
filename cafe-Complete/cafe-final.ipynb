{
 "cells": [
  {
   "cell_type": "code",
   "execution_count": 66,
   "id": "eeeba9f6",
   "metadata": {},
   "outputs": [],
   "source": [
    "import janitor\n",
    "import skimpy as sk\n",
    "import pandas as pd\n",
    "import numpy as np\n",
    "import duckdb as db\n",
    "import seaborn as sns\n",
    "import matplotlib.pyplot as plt"
   ]
  },
  {
   "cell_type": "markdown",
   "id": "cc9e18e4",
   "metadata": {},
   "source": [
    "Part 1 : Data cleaning & Preprocessing"
   ]
  },
  {
   "cell_type": "code",
   "execution_count": 67,
   "id": "77ed5e24",
   "metadata": {},
   "outputs": [
    {
     "data": {
      "text/html": [
       "<div>\n",
       "<style scoped>\n",
       "    .dataframe tbody tr th:only-of-type {\n",
       "        vertical-align: middle;\n",
       "    }\n",
       "\n",
       "    .dataframe tbody tr th {\n",
       "        vertical-align: top;\n",
       "    }\n",
       "\n",
       "    .dataframe thead th {\n",
       "        text-align: right;\n",
       "    }\n",
       "</style>\n",
       "<table border=\"1\" class=\"dataframe\">\n",
       "  <thead>\n",
       "    <tr style=\"text-align: right;\">\n",
       "      <th></th>\n",
       "      <th>Transaction ID</th>\n",
       "      <th>Item</th>\n",
       "      <th>Quantity</th>\n",
       "      <th>Price Per Unit</th>\n",
       "      <th>Total Spent</th>\n",
       "      <th>Payment Method</th>\n",
       "      <th>Location</th>\n",
       "      <th>Transaction Date</th>\n",
       "    </tr>\n",
       "  </thead>\n",
       "  <tbody>\n",
       "    <tr>\n",
       "      <th>0</th>\n",
       "      <td>TXN_1961373</td>\n",
       "      <td>Coffee</td>\n",
       "      <td>2</td>\n",
       "      <td>2.0</td>\n",
       "      <td>4.0</td>\n",
       "      <td>Credit Card</td>\n",
       "      <td>Takeaway</td>\n",
       "      <td>2023-09-08</td>\n",
       "    </tr>\n",
       "    <tr>\n",
       "      <th>1</th>\n",
       "      <td>TXN_4977031</td>\n",
       "      <td>Cake</td>\n",
       "      <td>4</td>\n",
       "      <td>3.0</td>\n",
       "      <td>12.0</td>\n",
       "      <td>Cash</td>\n",
       "      <td>In-store</td>\n",
       "      <td>2023-05-16</td>\n",
       "    </tr>\n",
       "    <tr>\n",
       "      <th>2</th>\n",
       "      <td>TXN_4271903</td>\n",
       "      <td>Cookie</td>\n",
       "      <td>4</td>\n",
       "      <td>1.0</td>\n",
       "      <td>ERROR</td>\n",
       "      <td>Credit Card</td>\n",
       "      <td>In-store</td>\n",
       "      <td>2023-07-19</td>\n",
       "    </tr>\n",
       "    <tr>\n",
       "      <th>3</th>\n",
       "      <td>TXN_7034554</td>\n",
       "      <td>Salad</td>\n",
       "      <td>2</td>\n",
       "      <td>5.0</td>\n",
       "      <td>10.0</td>\n",
       "      <td>UNKNOWN</td>\n",
       "      <td>UNKNOWN</td>\n",
       "      <td>2023-04-27</td>\n",
       "    </tr>\n",
       "    <tr>\n",
       "      <th>4</th>\n",
       "      <td>TXN_3160411</td>\n",
       "      <td>Coffee</td>\n",
       "      <td>2</td>\n",
       "      <td>2.0</td>\n",
       "      <td>4.0</td>\n",
       "      <td>Digital Wallet</td>\n",
       "      <td>In-store</td>\n",
       "      <td>2023-06-11</td>\n",
       "    </tr>\n",
       "    <tr>\n",
       "      <th>5</th>\n",
       "      <td>TXN_2602893</td>\n",
       "      <td>Smoothie</td>\n",
       "      <td>5</td>\n",
       "      <td>4.0</td>\n",
       "      <td>20.0</td>\n",
       "      <td>Credit Card</td>\n",
       "      <td>NaN</td>\n",
       "      <td>2023-03-31</td>\n",
       "    </tr>\n",
       "    <tr>\n",
       "      <th>6</th>\n",
       "      <td>TXN_4433211</td>\n",
       "      <td>UNKNOWN</td>\n",
       "      <td>3</td>\n",
       "      <td>3.0</td>\n",
       "      <td>9.0</td>\n",
       "      <td>ERROR</td>\n",
       "      <td>Takeaway</td>\n",
       "      <td>2023-10-06</td>\n",
       "    </tr>\n",
       "    <tr>\n",
       "      <th>7</th>\n",
       "      <td>TXN_6699534</td>\n",
       "      <td>Sandwich</td>\n",
       "      <td>4</td>\n",
       "      <td>4.0</td>\n",
       "      <td>16.0</td>\n",
       "      <td>Cash</td>\n",
       "      <td>UNKNOWN</td>\n",
       "      <td>2023-10-28</td>\n",
       "    </tr>\n",
       "    <tr>\n",
       "      <th>8</th>\n",
       "      <td>TXN_4717867</td>\n",
       "      <td>NaN</td>\n",
       "      <td>5</td>\n",
       "      <td>3.0</td>\n",
       "      <td>15.0</td>\n",
       "      <td>NaN</td>\n",
       "      <td>Takeaway</td>\n",
       "      <td>2023-07-28</td>\n",
       "    </tr>\n",
       "    <tr>\n",
       "      <th>9</th>\n",
       "      <td>TXN_2064365</td>\n",
       "      <td>Sandwich</td>\n",
       "      <td>5</td>\n",
       "      <td>4.0</td>\n",
       "      <td>20.0</td>\n",
       "      <td>NaN</td>\n",
       "      <td>In-store</td>\n",
       "      <td>2023-12-31</td>\n",
       "    </tr>\n",
       "    <tr>\n",
       "      <th>10</th>\n",
       "      <td>TXN_2548360</td>\n",
       "      <td>Salad</td>\n",
       "      <td>5</td>\n",
       "      <td>5.0</td>\n",
       "      <td>25.0</td>\n",
       "      <td>Cash</td>\n",
       "      <td>Takeaway</td>\n",
       "      <td>2023-11-07</td>\n",
       "    </tr>\n",
       "    <tr>\n",
       "      <th>11</th>\n",
       "      <td>TXN_3051279</td>\n",
       "      <td>Sandwich</td>\n",
       "      <td>2</td>\n",
       "      <td>4.0</td>\n",
       "      <td>8.0</td>\n",
       "      <td>Credit Card</td>\n",
       "      <td>Takeaway</td>\n",
       "      <td>ERROR</td>\n",
       "    </tr>\n",
       "    <tr>\n",
       "      <th>12</th>\n",
       "      <td>TXN_7619095</td>\n",
       "      <td>Sandwich</td>\n",
       "      <td>2</td>\n",
       "      <td>4.0</td>\n",
       "      <td>8.0</td>\n",
       "      <td>Cash</td>\n",
       "      <td>In-store</td>\n",
       "      <td>2023-05-03</td>\n",
       "    </tr>\n",
       "    <tr>\n",
       "      <th>13</th>\n",
       "      <td>TXN_9437049</td>\n",
       "      <td>Cookie</td>\n",
       "      <td>5</td>\n",
       "      <td>1.0</td>\n",
       "      <td>5.0</td>\n",
       "      <td>NaN</td>\n",
       "      <td>Takeaway</td>\n",
       "      <td>2023-06-01</td>\n",
       "    </tr>\n",
       "    <tr>\n",
       "      <th>14</th>\n",
       "      <td>TXN_8915701</td>\n",
       "      <td>ERROR</td>\n",
       "      <td>2</td>\n",
       "      <td>1.5</td>\n",
       "      <td>3.0</td>\n",
       "      <td>NaN</td>\n",
       "      <td>In-store</td>\n",
       "      <td>2023-03-21</td>\n",
       "    </tr>\n",
       "    <tr>\n",
       "      <th>15</th>\n",
       "      <td>TXN_2847255</td>\n",
       "      <td>Salad</td>\n",
       "      <td>3</td>\n",
       "      <td>5.0</td>\n",
       "      <td>15.0</td>\n",
       "      <td>Credit Card</td>\n",
       "      <td>In-store</td>\n",
       "      <td>2023-11-15</td>\n",
       "    </tr>\n",
       "    <tr>\n",
       "      <th>16</th>\n",
       "      <td>TXN_3765707</td>\n",
       "      <td>Sandwich</td>\n",
       "      <td>1</td>\n",
       "      <td>4.0</td>\n",
       "      <td>4.0</td>\n",
       "      <td>NaN</td>\n",
       "      <td>NaN</td>\n",
       "      <td>2023-06-10</td>\n",
       "    </tr>\n",
       "    <tr>\n",
       "      <th>17</th>\n",
       "      <td>TXN_6769710</td>\n",
       "      <td>Juice</td>\n",
       "      <td>2</td>\n",
       "      <td>3.0</td>\n",
       "      <td>6.0</td>\n",
       "      <td>Cash</td>\n",
       "      <td>In-store</td>\n",
       "      <td>2023-02-24</td>\n",
       "    </tr>\n",
       "    <tr>\n",
       "      <th>18</th>\n",
       "      <td>TXN_8876618</td>\n",
       "      <td>Cake</td>\n",
       "      <td>5</td>\n",
       "      <td>3.0</td>\n",
       "      <td>15.0</td>\n",
       "      <td>Cash</td>\n",
       "      <td>ERROR</td>\n",
       "      <td>2023-03-25</td>\n",
       "    </tr>\n",
       "    <tr>\n",
       "      <th>19</th>\n",
       "      <td>TXN_3709394</td>\n",
       "      <td>Juice</td>\n",
       "      <td>4</td>\n",
       "      <td>3.0</td>\n",
       "      <td>12.0</td>\n",
       "      <td>Cash</td>\n",
       "      <td>Takeaway</td>\n",
       "      <td>2023-01-15</td>\n",
       "    </tr>\n",
       "    <tr>\n",
       "      <th>20</th>\n",
       "      <td>TXN_3522028</td>\n",
       "      <td>Smoothie</td>\n",
       "      <td>ERROR</td>\n",
       "      <td>4.0</td>\n",
       "      <td>20.0</td>\n",
       "      <td>Cash</td>\n",
       "      <td>In-store</td>\n",
       "      <td>2023-04-04</td>\n",
       "    </tr>\n",
       "    <tr>\n",
       "      <th>21</th>\n",
       "      <td>TXN_3567645</td>\n",
       "      <td>Smoothie</td>\n",
       "      <td>4</td>\n",
       "      <td>4.0</td>\n",
       "      <td>16.0</td>\n",
       "      <td>Credit Card</td>\n",
       "      <td>Takeaway</td>\n",
       "      <td>2023-03-30</td>\n",
       "    </tr>\n",
       "    <tr>\n",
       "      <th>22</th>\n",
       "      <td>TXN_5132361</td>\n",
       "      <td>Sandwich</td>\n",
       "      <td>3</td>\n",
       "      <td>4.0</td>\n",
       "      <td>12.0</td>\n",
       "      <td>Digital Wallet</td>\n",
       "      <td>Takeaway</td>\n",
       "      <td>2023-12-01</td>\n",
       "    </tr>\n",
       "    <tr>\n",
       "      <th>23</th>\n",
       "      <td>TXN_2616390</td>\n",
       "      <td>Sandwich</td>\n",
       "      <td>2</td>\n",
       "      <td>4.0</td>\n",
       "      <td>8.0</td>\n",
       "      <td>NaN</td>\n",
       "      <td>NaN</td>\n",
       "      <td>2023-09-18</td>\n",
       "    </tr>\n",
       "    <tr>\n",
       "      <th>24</th>\n",
       "      <td>TXN_9400181</td>\n",
       "      <td>Sandwich</td>\n",
       "      <td>5</td>\n",
       "      <td>4.0</td>\n",
       "      <td>20.0</td>\n",
       "      <td>Cash</td>\n",
       "      <td>In-store</td>\n",
       "      <td>2023-06-03</td>\n",
       "    </tr>\n",
       "  </tbody>\n",
       "</table>\n",
       "</div>"
      ],
      "text/plain": [
       "   Transaction ID      Item Quantity Price Per Unit Total Spent  \\\n",
       "0     TXN_1961373    Coffee        2            2.0         4.0   \n",
       "1     TXN_4977031      Cake        4            3.0        12.0   \n",
       "2     TXN_4271903    Cookie        4            1.0       ERROR   \n",
       "3     TXN_7034554     Salad        2            5.0        10.0   \n",
       "4     TXN_3160411    Coffee        2            2.0         4.0   \n",
       "5     TXN_2602893  Smoothie        5            4.0        20.0   \n",
       "6     TXN_4433211   UNKNOWN        3            3.0         9.0   \n",
       "7     TXN_6699534  Sandwich        4            4.0        16.0   \n",
       "8     TXN_4717867       NaN        5            3.0        15.0   \n",
       "9     TXN_2064365  Sandwich        5            4.0        20.0   \n",
       "10    TXN_2548360     Salad        5            5.0        25.0   \n",
       "11    TXN_3051279  Sandwich        2            4.0         8.0   \n",
       "12    TXN_7619095  Sandwich        2            4.0         8.0   \n",
       "13    TXN_9437049    Cookie        5            1.0         5.0   \n",
       "14    TXN_8915701     ERROR        2            1.5         3.0   \n",
       "15    TXN_2847255     Salad        3            5.0        15.0   \n",
       "16    TXN_3765707  Sandwich        1            4.0         4.0   \n",
       "17    TXN_6769710     Juice        2            3.0         6.0   \n",
       "18    TXN_8876618      Cake        5            3.0        15.0   \n",
       "19    TXN_3709394     Juice        4            3.0        12.0   \n",
       "20    TXN_3522028  Smoothie    ERROR            4.0        20.0   \n",
       "21    TXN_3567645  Smoothie        4            4.0        16.0   \n",
       "22    TXN_5132361  Sandwich        3            4.0        12.0   \n",
       "23    TXN_2616390  Sandwich        2            4.0         8.0   \n",
       "24    TXN_9400181  Sandwich        5            4.0        20.0   \n",
       "\n",
       "    Payment Method  Location Transaction Date  \n",
       "0      Credit Card  Takeaway       2023-09-08  \n",
       "1             Cash  In-store       2023-05-16  \n",
       "2      Credit Card  In-store       2023-07-19  \n",
       "3          UNKNOWN   UNKNOWN       2023-04-27  \n",
       "4   Digital Wallet  In-store       2023-06-11  \n",
       "5      Credit Card       NaN       2023-03-31  \n",
       "6            ERROR  Takeaway       2023-10-06  \n",
       "7             Cash   UNKNOWN       2023-10-28  \n",
       "8              NaN  Takeaway       2023-07-28  \n",
       "9              NaN  In-store       2023-12-31  \n",
       "10            Cash  Takeaway       2023-11-07  \n",
       "11     Credit Card  Takeaway            ERROR  \n",
       "12            Cash  In-store       2023-05-03  \n",
       "13             NaN  Takeaway       2023-06-01  \n",
       "14             NaN  In-store       2023-03-21  \n",
       "15     Credit Card  In-store       2023-11-15  \n",
       "16             NaN       NaN       2023-06-10  \n",
       "17            Cash  In-store       2023-02-24  \n",
       "18            Cash     ERROR       2023-03-25  \n",
       "19            Cash  Takeaway       2023-01-15  \n",
       "20            Cash  In-store       2023-04-04  \n",
       "21     Credit Card  Takeaway       2023-03-30  \n",
       "22  Digital Wallet  Takeaway       2023-12-01  \n",
       "23             NaN       NaN       2023-09-18  \n",
       "24            Cash  In-store       2023-06-03  "
      ]
     },
     "execution_count": 67,
     "metadata": {},
     "output_type": "execute_result"
    }
   ],
   "source": [
    "data = pd.read_csv(\"C:\\\\Users\\\\Prime\\\\Music\\\\Projects 25\\\\cafe-Complete\\\\dirty_cafe_sales.csv\")\n",
    "\n",
    "data.head(25)\n"
   ]
  },
  {
   "cell_type": "markdown",
   "id": "a01d8295",
   "metadata": {},
   "source": [
    "This is The table for Item and their prices that i will use to consolidate data quality issues"
   ]
  },
  {
   "cell_type": "code",
   "execution_count": 68,
   "id": "18e1898f",
   "metadata": {},
   "outputs": [
    {
     "data": {
      "text/html": [
       "<div>\n",
       "<style scoped>\n",
       "    .dataframe tbody tr th:only-of-type {\n",
       "        vertical-align: middle;\n",
       "    }\n",
       "\n",
       "    .dataframe tbody tr th {\n",
       "        vertical-align: top;\n",
       "    }\n",
       "\n",
       "    .dataframe thead th {\n",
       "        text-align: right;\n",
       "    }\n",
       "</style>\n",
       "<table border=\"1\" class=\"dataframe\">\n",
       "  <thead>\n",
       "    <tr style=\"text-align: right;\">\n",
       "      <th></th>\n",
       "      <th>item</th>\n",
       "      <th>price_$_</th>\n",
       "    </tr>\n",
       "  </thead>\n",
       "  <tbody>\n",
       "    <tr>\n",
       "      <th>0</th>\n",
       "      <td>Coffee</td>\n",
       "      <td>2.0</td>\n",
       "    </tr>\n",
       "    <tr>\n",
       "      <th>1</th>\n",
       "      <td>Tea</td>\n",
       "      <td>1.5</td>\n",
       "    </tr>\n",
       "    <tr>\n",
       "      <th>2</th>\n",
       "      <td>Sandwich</td>\n",
       "      <td>4.0</td>\n",
       "    </tr>\n",
       "    <tr>\n",
       "      <th>3</th>\n",
       "      <td>Salad</td>\n",
       "      <td>5.0</td>\n",
       "    </tr>\n",
       "    <tr>\n",
       "      <th>4</th>\n",
       "      <td>Cake</td>\n",
       "      <td>3.0</td>\n",
       "    </tr>\n",
       "  </tbody>\n",
       "</table>\n",
       "</div>"
      ],
      "text/plain": [
       "       item  price_$_\n",
       "0    Coffee       2.0\n",
       "1       Tea       1.5\n",
       "2  Sandwich       4.0\n",
       "3     Salad       5.0\n",
       "4      Cake       3.0"
      ]
     },
     "execution_count": 68,
     "metadata": {},
     "output_type": "execute_result"
    }
   ],
   "source": [
    "menu = {\n",
    "    \"Item\": ['Coffee', 'Tea', 'Sandwich', 'Salad', 'Cake', 'Cookie', 'Smoothie', 'Juice'],\n",
    "    \"Price($)\": [2, 1.5, 4, 5, 3, 1, 4, 3]\n",
    "}\n",
    "\n",
    "menu = pd.DataFrame(menu)\n",
    "\n",
    "menu = menu.clean_names()\n",
    "menu.head()"
   ]
  },
  {
   "cell_type": "markdown",
   "id": "9cda302b",
   "metadata": {},
   "source": [
    "Clean column names make your code easier to read, write, and debug. They also ensure compatibility with functions that expect syntactically valid identifiers."
   ]
  },
  {
   "cell_type": "markdown",
   "id": "099921f1",
   "metadata": {},
   "source": [
    "Step 1: Normalize columns names"
   ]
  },
  {
   "cell_type": "code",
   "execution_count": 69,
   "id": "0ef660ee",
   "metadata": {},
   "outputs": [],
   "source": [
    "data = data.clean_names()"
   ]
  },
  {
   "cell_type": "markdown",
   "id": "3f909165",
   "metadata": {},
   "source": [
    "Step 2: Flag Inconsistent Entries as Missing Values"
   ]
  },
  {
   "cell_type": "code",
   "execution_count": 70,
   "id": "cc6585e2",
   "metadata": {},
   "outputs": [],
   "source": [
    "#Capturing Inconsistencies To Missing Values for Imputation \n",
    "\n",
    "nulls = [\"ERROR\",\"UNKNOWN\"]\n",
    "\n",
    "data.loc[data['item'].isin(nulls), 'item'] = np.nan\n",
    "data.loc[data['payment_method'].isin(nulls), 'payment_method'] = np.nan\n",
    "data.loc[data['location'].isin(nulls), 'location'] = np.nan\n",
    "data.loc[data['transaction_date'].isin(nulls), 'transaction_date'] = np.nan\n",
    "data.loc[data['quantity'].isin(nulls), 'quantity'] = np.nan\n",
    "data.loc[data['price_per_unit'].isin(nulls), 'price_per_unit'] = np.nan\n",
    "data.loc[data['total_spent'].isin(nulls), 'total_spent'] = np.nan\n"
   ]
  },
  {
   "cell_type": "markdown",
   "id": "cff3874e",
   "metadata": {},
   "source": [
    "Logic & Purpose: In this dataset, certain fields contain placeholder values like \"ERROR\" or \"UNKNOWN\" — these are not valid data points and should not be treated as real entries. Instead of analyzing them directly, we convert these inconsistencies into NaN (missing values), which allows us to:\n",
    "\n",
    "✅ Treat them uniformly during imputation\n",
    "\n",
    "✅ Leverage pandas’ built-in missing data handling\n",
    "\n",
    "✅ Avoid skewing statistics with invalid entries\n",
    "\n",
    "Why This Matters: By explicitly marking these entries as missing, we streamline the cleaning process and ensure that imputation logic (e.g., filling with median, calculating from other columns) can be applied consistently. This step also improves transparency in how data quality issues are handled."
   ]
  },
  {
   "cell_type": "markdown",
   "id": "ae850b58",
   "metadata": {},
   "source": [
    "Step 3: Convert transaction_date to Datetime Format"
   ]
  },
  {
   "cell_type": "code",
   "execution_count": 71,
   "id": "ae7ef39b",
   "metadata": {},
   "outputs": [],
   "source": [
    "#Converting transaction_date to a datetime variable for Time-Series Analysis\n",
    "data['transaction_date'] = pd.to_datetime(data['transaction_date'],errors='coerce')"
   ]
  },
  {
   "cell_type": "markdown",
   "id": "56aebc25",
   "metadata": {},
   "source": [
    "Logic & Purpose: To perform time-based analysis — such as monthly revenue trends, seasonal patterns, or daily sales peaks — the transaction_date column must be in a proper datetime format. This transformation enables:\n",
    "\n",
    "🗓️ Resampling by day, week, or month\n",
    "\n",
    "📈 Plotting time-series graphs\n",
    "\n",
    "📊 Grouping transactions over time intervals\n",
    "\n",
    "Why errors='coerce'? Some entries may contain invalid or corrupted date strings. Setting errors='coerce' ensures that these are safely converted to NaT (Not a Time), which can then be handled as missing values during cleaning or excluded from time-based plots.\n",
    "\n",
    "Outcome: This step prepares the dataset for robust time-series visualizations, such as:\n",
    "\n",
    "Monthly revenue performance\n",
    "\n",
    "Daily transaction volume\n",
    "\n",
    "Seasonal product demand"
   ]
  },
  {
   "cell_type": "code",
   "execution_count": 72,
   "id": "ef463152",
   "metadata": {},
   "outputs": [
    {
     "data": {
      "text/html": [
       "<pre style=\"white-space:pre;overflow-x:auto;line-height:normal;font-family:Menlo,'DejaVu Sans Mono',consolas,'Courier New',monospace\">╭──────────────────────────────────────────────── skimpy summary ─────────────────────────────────────────────────╮\n",
       "│ <span style=\"font-style: italic\">         Data Summary         </span> <span style=\"font-style: italic\">      Data Types       </span>                                                          │\n",
       "│ ┏━━━━━━━━━━━━━━━━━━━┳━━━━━━━━┓ ┏━━━━━━━━━━━━━┳━━━━━━━┓                                                          │\n",
       "│ ┃<span style=\"color: #008080; text-decoration-color: #008080; font-weight: bold\"> Dataframe         </span>┃<span style=\"color: #008080; text-decoration-color: #008080; font-weight: bold\"> Values </span>┃ ┃<span style=\"color: #008080; text-decoration-color: #008080; font-weight: bold\"> Column Type </span>┃<span style=\"color: #008080; text-decoration-color: #008080; font-weight: bold\"> Count </span>┃                                                          │\n",
       "│ ┡━━━━━━━━━━━━━━━━━━━╇━━━━━━━━┩ ┡━━━━━━━━━━━━━╇━━━━━━━┩                                                          │\n",
       "│ │ Number of rows    │ 10000  │ │ string      │ 7     │                                                          │\n",
       "│ │ Number of columns │ 8      │ │ datetime64  │ 1     │                                                          │\n",
       "│ └───────────────────┴────────┘ └─────────────┴───────┘                                                          │\n",
       "│ <span style=\"font-style: italic\">                                                   datetime                                                   </span>  │\n",
       "│ ┏━━━━━━━━━━━━━━━━━━━━━━━━━━━━━┳━━━━━━━━━┳━━━━━━━━━━┳━━━━━━━━━━━━━━━━━━━┳━━━━━━━━━━━━━━━━━━━┳━━━━━━━━━━━━━━━━━┓  │\n",
       "│ ┃<span style=\"font-weight: bold\"> column                      </span>┃<span style=\"font-weight: bold\"> NA      </span>┃<span style=\"font-weight: bold\"> NA %     </span>┃<span style=\"font-weight: bold\"> first             </span>┃<span style=\"font-weight: bold\"> last              </span>┃<span style=\"font-weight: bold\"> frequency       </span>┃  │\n",
       "│ ┡━━━━━━━━━━━━━━━━━━━━━━━━━━━━━╇━━━━━━━━━╇━━━━━━━━━━╇━━━━━━━━━━━━━━━━━━━╇━━━━━━━━━━━━━━━━━━━╇━━━━━━━━━━━━━━━━━┩  │\n",
       "│ │ <span style=\"color: #af87ff; text-decoration-color: #af87ff\">transaction_date           </span> │ <span style=\"color: #008080; text-decoration-color: #008080\">    460</span> │ <span style=\"color: #008080; text-decoration-color: #008080\">     4.6</span> │ <span style=\"color: #800000; text-decoration-color: #800000\">   2023-01-01    </span> │ <span style=\"color: #800000; text-decoration-color: #800000\">   2023-12-31    </span> │ <span style=\"color: #af87ff; text-decoration-color: #af87ff\">None           </span> │  │\n",
       "│ └─────────────────────────────┴─────────┴──────────┴───────────────────┴───────────────────┴─────────────────┘  │\n",
       "│ <span style=\"font-style: italic\">                                                    string                                                    </span>  │\n",
       "│ ┏━━━━━━━━━━━┳━━━━━━┳━━━━━━━┳━━━━━━━━━━━┳━━━━━━━━━━━┳━━━━━━━━━━━┳━━━━━━━━━━━┳━━━━━━━━━━┳━━━━━━━━━━━┳━━━━━━━━━━┓  │\n",
       "│ ┃<span style=\"font-weight: bold\">           </span>┃<span style=\"font-weight: bold\">      </span>┃<span style=\"font-weight: bold\">       </span>┃<span style=\"font-weight: bold\">           </span>┃<span style=\"font-weight: bold\">           </span>┃<span style=\"font-weight: bold\">           </span>┃<span style=\"font-weight: bold\">           </span>┃<span style=\"font-weight: bold\"> chars    </span>┃<span style=\"font-weight: bold\"> words per </span>┃<span style=\"font-weight: bold\"> total    </span>┃  │\n",
       "│ ┃<span style=\"font-weight: bold\"> column    </span>┃<span style=\"font-weight: bold\"> NA   </span>┃<span style=\"font-weight: bold\"> NA %  </span>┃<span style=\"font-weight: bold\"> shortest  </span>┃<span style=\"font-weight: bold\"> longest   </span>┃<span style=\"font-weight: bold\"> min       </span>┃<span style=\"font-weight: bold\"> max       </span>┃<span style=\"font-weight: bold\"> per row  </span>┃<span style=\"font-weight: bold\"> row       </span>┃<span style=\"font-weight: bold\"> words    </span>┃  │\n",
       "│ ┡━━━━━━━━━━━╇━━━━━━╇━━━━━━━╇━━━━━━━━━━━╇━━━━━━━━━━━╇━━━━━━━━━━━╇━━━━━━━━━━━╇━━━━━━━━━━╇━━━━━━━━━━━╇━━━━━━━━━━┩  │\n",
       "│ │ <span style=\"color: #af87ff; text-decoration-color: #af87ff\">transacti</span> │ <span style=\"color: #008080; text-decoration-color: #008080\">   0</span> │ <span style=\"color: #008080; text-decoration-color: #008080\">    0</span> │ <span style=\"color: #af87ff; text-decoration-color: #af87ff\">TXN_19613</span> │ <span style=\"color: #af87ff; text-decoration-color: #af87ff\">TXN_19613</span> │ <span style=\"color: #af87ff; text-decoration-color: #af87ff\">TXN_10005</span> │ <span style=\"color: #af87ff; text-decoration-color: #af87ff\">TXN_99991</span> │ <span style=\"color: #008080; text-decoration-color: #008080\">      11</span> │ <span style=\"color: #008080; text-decoration-color: #008080\">        1</span> │ <span style=\"color: #008080; text-decoration-color: #008080\">   10000</span> │  │\n",
       "│ │ <span style=\"color: #af87ff; text-decoration-color: #af87ff\">on_id    </span> │      │       │ <span style=\"color: #af87ff; text-decoration-color: #af87ff\">73       </span> │ <span style=\"color: #af87ff; text-decoration-color: #af87ff\">73       </span> │ <span style=\"color: #af87ff; text-decoration-color: #af87ff\">55       </span> │ <span style=\"color: #af87ff; text-decoration-color: #af87ff\">24       </span> │          │           │          │  │\n",
       "│ │ <span style=\"color: #af87ff; text-decoration-color: #af87ff\">item     </span> │ <span style=\"color: #008080; text-decoration-color: #008080\"> 969</span> │ <span style=\"color: #008080; text-decoration-color: #008080\"> 9.69</span> │ <span style=\"color: #af87ff; text-decoration-color: #af87ff\">Tea      </span> │ <span style=\"color: #af87ff; text-decoration-color: #af87ff\">Smoothie </span> │ <span style=\"color: #af87ff; text-decoration-color: #af87ff\">Cake     </span> │ <span style=\"color: #af87ff; text-decoration-color: #af87ff\">Tea      </span> │ <span style=\"color: #008080; text-decoration-color: #008080\">    5.62</span> │ <span style=\"color: #008080; text-decoration-color: #008080\">      0.9</span> │ <span style=\"color: #008080; text-decoration-color: #008080\">    9031</span> │  │\n",
       "│ │ <span style=\"color: #af87ff; text-decoration-color: #af87ff\">quantity </span> │ <span style=\"color: #008080; text-decoration-color: #008080\"> 479</span> │ <span style=\"color: #008080; text-decoration-color: #008080\"> 4.79</span> │ <span style=\"color: #af87ff; text-decoration-color: #af87ff\">2        </span> │ <span style=\"color: #af87ff; text-decoration-color: #af87ff\">2        </span> │ <span style=\"color: #af87ff; text-decoration-color: #af87ff\">1        </span> │ <span style=\"color: #af87ff; text-decoration-color: #af87ff\">5        </span> │ <span style=\"color: #008080; text-decoration-color: #008080\">       1</span> │ <span style=\"color: #008080; text-decoration-color: #008080\">     0.95</span> │ <span style=\"color: #008080; text-decoration-color: #008080\">    9521</span> │  │\n",
       "│ │ <span style=\"color: #af87ff; text-decoration-color: #af87ff\">price_per</span> │ <span style=\"color: #008080; text-decoration-color: #008080\"> 533</span> │ <span style=\"color: #008080; text-decoration-color: #008080\"> 5.33</span> │ <span style=\"color: #af87ff; text-decoration-color: #af87ff\">2.0      </span> │ <span style=\"color: #af87ff; text-decoration-color: #af87ff\">2.0      </span> │ <span style=\"color: #af87ff; text-decoration-color: #af87ff\">1.0      </span> │ <span style=\"color: #af87ff; text-decoration-color: #af87ff\">5.0      </span> │ <span style=\"color: #008080; text-decoration-color: #008080\">       3</span> │ <span style=\"color: #008080; text-decoration-color: #008080\">     0.95</span> │ <span style=\"color: #008080; text-decoration-color: #008080\">    9467</span> │  │\n",
       "│ │ <span style=\"color: #af87ff; text-decoration-color: #af87ff\">_unit    </span> │      │       │           │           │           │           │          │           │          │  │\n",
       "│ │ <span style=\"color: #af87ff; text-decoration-color: #af87ff\">total_spe</span> │ <span style=\"color: #008080; text-decoration-color: #008080\"> 502</span> │ <span style=\"color: #008080; text-decoration-color: #008080\"> 5.02</span> │ <span style=\"color: #af87ff; text-decoration-color: #af87ff\">4.0      </span> │ <span style=\"color: #af87ff; text-decoration-color: #af87ff\">12.0     </span> │ <span style=\"color: #af87ff; text-decoration-color: #af87ff\">1.0      </span> │ <span style=\"color: #af87ff; text-decoration-color: #af87ff\">9.0      </span> │ <span style=\"color: #008080; text-decoration-color: #008080\">    3.38</span> │ <span style=\"color: #008080; text-decoration-color: #008080\">     0.95</span> │ <span style=\"color: #008080; text-decoration-color: #008080\">    9498</span> │  │\n",
       "│ │ <span style=\"color: #af87ff; text-decoration-color: #af87ff\">nt       </span> │      │       │           │           │           │           │          │           │          │  │\n",
       "│ │ <span style=\"color: #af87ff; text-decoration-color: #af87ff\">payment_m</span> │ <span style=\"color: #008080; text-decoration-color: #008080\">3178</span> │ <span style=\"color: #008080; text-decoration-color: #008080\">31.78</span> │ <span style=\"color: #af87ff; text-decoration-color: #af87ff\">Cash     </span> │ <span style=\"color: #af87ff; text-decoration-color: #af87ff\">Digital  </span> │ <span style=\"color: #af87ff; text-decoration-color: #af87ff\">Cash     </span> │ <span style=\"color: #af87ff; text-decoration-color: #af87ff\">Digital  </span> │ <span style=\"color: #008080; text-decoration-color: #008080\">    9.69</span> │ <span style=\"color: #008080; text-decoration-color: #008080\">      1.1</span> │ <span style=\"color: #008080; text-decoration-color: #008080\">   11386</span> │  │\n",
       "│ │ <span style=\"color: #af87ff; text-decoration-color: #af87ff\">ethod    </span> │      │       │           │ <span style=\"color: #af87ff; text-decoration-color: #af87ff\">Wallet   </span> │           │ <span style=\"color: #af87ff; text-decoration-color: #af87ff\">Wallet   </span> │          │           │          │  │\n",
       "│ │ <span style=\"color: #af87ff; text-decoration-color: #af87ff\">location </span> │ <span style=\"color: #008080; text-decoration-color: #008080\">3961</span> │ <span style=\"color: #008080; text-decoration-color: #008080\">39.61</span> │ <span style=\"color: #af87ff; text-decoration-color: #af87ff\">Takeaway </span> │ <span style=\"color: #af87ff; text-decoration-color: #af87ff\">Takeaway </span> │ <span style=\"color: #af87ff; text-decoration-color: #af87ff\">In-store </span> │ <span style=\"color: #af87ff; text-decoration-color: #af87ff\">Takeaway </span> │ <span style=\"color: #008080; text-decoration-color: #008080\">       8</span> │ <span style=\"color: #008080; text-decoration-color: #008080\">      0.6</span> │ <span style=\"color: #008080; text-decoration-color: #008080\">    6039</span> │  │\n",
       "│ └───────────┴──────┴───────┴───────────┴───────────┴───────────┴───────────┴──────────┴───────────┴──────────┘  │\n",
       "╰────────────────────────────────────────────────────── End ──────────────────────────────────────────────────────╯\n",
       "</pre>\n"
      ],
      "text/plain": [
       "╭──────────────────────────────────────────────── skimpy summary ─────────────────────────────────────────────────╮\n",
       "│ \u001b[3m         Data Summary         \u001b[0m \u001b[3m      Data Types       \u001b[0m                                                          │\n",
       "│ ┏━━━━━━━━━━━━━━━━━━━┳━━━━━━━━┓ ┏━━━━━━━━━━━━━┳━━━━━━━┓                                                          │\n",
       "│ ┃\u001b[1;36m \u001b[0m\u001b[1;36mDataframe        \u001b[0m\u001b[1;36m \u001b[0m┃\u001b[1;36m \u001b[0m\u001b[1;36mValues\u001b[0m\u001b[1;36m \u001b[0m┃ ┃\u001b[1;36m \u001b[0m\u001b[1;36mColumn Type\u001b[0m\u001b[1;36m \u001b[0m┃\u001b[1;36m \u001b[0m\u001b[1;36mCount\u001b[0m\u001b[1;36m \u001b[0m┃                                                          │\n",
       "│ ┡━━━━━━━━━━━━━━━━━━━╇━━━━━━━━┩ ┡━━━━━━━━━━━━━╇━━━━━━━┩                                                          │\n",
       "│ │ Number of rows    │ 10000  │ │ string      │ 7     │                                                          │\n",
       "│ │ Number of columns │ 8      │ │ datetime64  │ 1     │                                                          │\n",
       "│ └───────────────────┴────────┘ └─────────────┴───────┘                                                          │\n",
       "│ \u001b[3m                                                   datetime                                                   \u001b[0m  │\n",
       "│ ┏━━━━━━━━━━━━━━━━━━━━━━━━━━━━━┳━━━━━━━━━┳━━━━━━━━━━┳━━━━━━━━━━━━━━━━━━━┳━━━━━━━━━━━━━━━━━━━┳━━━━━━━━━━━━━━━━━┓  │\n",
       "│ ┃\u001b[1m \u001b[0m\u001b[1mcolumn                     \u001b[0m\u001b[1m \u001b[0m┃\u001b[1m \u001b[0m\u001b[1mNA     \u001b[0m\u001b[1m \u001b[0m┃\u001b[1m \u001b[0m\u001b[1mNA %    \u001b[0m\u001b[1m \u001b[0m┃\u001b[1m \u001b[0m\u001b[1mfirst            \u001b[0m\u001b[1m \u001b[0m┃\u001b[1m \u001b[0m\u001b[1mlast             \u001b[0m\u001b[1m \u001b[0m┃\u001b[1m \u001b[0m\u001b[1mfrequency      \u001b[0m\u001b[1m \u001b[0m┃  │\n",
       "│ ┡━━━━━━━━━━━━━━━━━━━━━━━━━━━━━╇━━━━━━━━━╇━━━━━━━━━━╇━━━━━━━━━━━━━━━━━━━╇━━━━━━━━━━━━━━━━━━━╇━━━━━━━━━━━━━━━━━┩  │\n",
       "│ │ \u001b[38;5;141mtransaction_date           \u001b[0m │ \u001b[36m    460\u001b[0m │ \u001b[36m     4.6\u001b[0m │ \u001b[31m   2023-01-01    \u001b[0m │ \u001b[31m   2023-12-31    \u001b[0m │ \u001b[38;5;141mNone           \u001b[0m │  │\n",
       "│ └─────────────────────────────┴─────────┴──────────┴───────────────────┴───────────────────┴─────────────────┘  │\n",
       "│ \u001b[3m                                                    string                                                    \u001b[0m  │\n",
       "│ ┏━━━━━━━━━━━┳━━━━━━┳━━━━━━━┳━━━━━━━━━━━┳━━━━━━━━━━━┳━━━━━━━━━━━┳━━━━━━━━━━━┳━━━━━━━━━━┳━━━━━━━━━━━┳━━━━━━━━━━┓  │\n",
       "│ ┃\u001b[1m           \u001b[0m┃\u001b[1m      \u001b[0m┃\u001b[1m       \u001b[0m┃\u001b[1m           \u001b[0m┃\u001b[1m           \u001b[0m┃\u001b[1m           \u001b[0m┃\u001b[1m           \u001b[0m┃\u001b[1m \u001b[0m\u001b[1mchars   \u001b[0m\u001b[1m \u001b[0m┃\u001b[1m \u001b[0m\u001b[1mwords per\u001b[0m\u001b[1m \u001b[0m┃\u001b[1m \u001b[0m\u001b[1mtotal   \u001b[0m\u001b[1m \u001b[0m┃  │\n",
       "│ ┃\u001b[1m \u001b[0m\u001b[1mcolumn   \u001b[0m\u001b[1m \u001b[0m┃\u001b[1m \u001b[0m\u001b[1mNA  \u001b[0m\u001b[1m \u001b[0m┃\u001b[1m \u001b[0m\u001b[1mNA % \u001b[0m\u001b[1m \u001b[0m┃\u001b[1m \u001b[0m\u001b[1mshortest \u001b[0m\u001b[1m \u001b[0m┃\u001b[1m \u001b[0m\u001b[1mlongest  \u001b[0m\u001b[1m \u001b[0m┃\u001b[1m \u001b[0m\u001b[1mmin      \u001b[0m\u001b[1m \u001b[0m┃\u001b[1m \u001b[0m\u001b[1mmax      \u001b[0m\u001b[1m \u001b[0m┃\u001b[1m \u001b[0m\u001b[1mper row \u001b[0m\u001b[1m \u001b[0m┃\u001b[1m \u001b[0m\u001b[1mrow      \u001b[0m\u001b[1m \u001b[0m┃\u001b[1m \u001b[0m\u001b[1mwords   \u001b[0m\u001b[1m \u001b[0m┃  │\n",
       "│ ┡━━━━━━━━━━━╇━━━━━━╇━━━━━━━╇━━━━━━━━━━━╇━━━━━━━━━━━╇━━━━━━━━━━━╇━━━━━━━━━━━╇━━━━━━━━━━╇━━━━━━━━━━━╇━━━━━━━━━━┩  │\n",
       "│ │ \u001b[38;5;141mtransacti\u001b[0m │ \u001b[36m   0\u001b[0m │ \u001b[36m    0\u001b[0m │ \u001b[38;5;141mTXN_19613\u001b[0m │ \u001b[38;5;141mTXN_19613\u001b[0m │ \u001b[38;5;141mTXN_10005\u001b[0m │ \u001b[38;5;141mTXN_99991\u001b[0m │ \u001b[36m      11\u001b[0m │ \u001b[36m        1\u001b[0m │ \u001b[36m   10000\u001b[0m │  │\n",
       "│ │ \u001b[38;5;141mon_id    \u001b[0m │      │       │ \u001b[38;5;141m73       \u001b[0m │ \u001b[38;5;141m73       \u001b[0m │ \u001b[38;5;141m55       \u001b[0m │ \u001b[38;5;141m24       \u001b[0m │          │           │          │  │\n",
       "│ │ \u001b[38;5;141mitem     \u001b[0m │ \u001b[36m 969\u001b[0m │ \u001b[36m 9.69\u001b[0m │ \u001b[38;5;141mTea      \u001b[0m │ \u001b[38;5;141mSmoothie \u001b[0m │ \u001b[38;5;141mCake     \u001b[0m │ \u001b[38;5;141mTea      \u001b[0m │ \u001b[36m    5.62\u001b[0m │ \u001b[36m      0.9\u001b[0m │ \u001b[36m    9031\u001b[0m │  │\n",
       "│ │ \u001b[38;5;141mquantity \u001b[0m │ \u001b[36m 479\u001b[0m │ \u001b[36m 4.79\u001b[0m │ \u001b[38;5;141m2        \u001b[0m │ \u001b[38;5;141m2        \u001b[0m │ \u001b[38;5;141m1        \u001b[0m │ \u001b[38;5;141m5        \u001b[0m │ \u001b[36m       1\u001b[0m │ \u001b[36m     0.95\u001b[0m │ \u001b[36m    9521\u001b[0m │  │\n",
       "│ │ \u001b[38;5;141mprice_per\u001b[0m │ \u001b[36m 533\u001b[0m │ \u001b[36m 5.33\u001b[0m │ \u001b[38;5;141m2.0      \u001b[0m │ \u001b[38;5;141m2.0      \u001b[0m │ \u001b[38;5;141m1.0      \u001b[0m │ \u001b[38;5;141m5.0      \u001b[0m │ \u001b[36m       3\u001b[0m │ \u001b[36m     0.95\u001b[0m │ \u001b[36m    9467\u001b[0m │  │\n",
       "│ │ \u001b[38;5;141m_unit    \u001b[0m │      │       │           │           │           │           │          │           │          │  │\n",
       "│ │ \u001b[38;5;141mtotal_spe\u001b[0m │ \u001b[36m 502\u001b[0m │ \u001b[36m 5.02\u001b[0m │ \u001b[38;5;141m4.0      \u001b[0m │ \u001b[38;5;141m12.0     \u001b[0m │ \u001b[38;5;141m1.0      \u001b[0m │ \u001b[38;5;141m9.0      \u001b[0m │ \u001b[36m    3.38\u001b[0m │ \u001b[36m     0.95\u001b[0m │ \u001b[36m    9498\u001b[0m │  │\n",
       "│ │ \u001b[38;5;141mnt       \u001b[0m │      │       │           │           │           │           │          │           │          │  │\n",
       "│ │ \u001b[38;5;141mpayment_m\u001b[0m │ \u001b[36m3178\u001b[0m │ \u001b[36m31.78\u001b[0m │ \u001b[38;5;141mCash     \u001b[0m │ \u001b[38;5;141mDigital  \u001b[0m │ \u001b[38;5;141mCash     \u001b[0m │ \u001b[38;5;141mDigital  \u001b[0m │ \u001b[36m    9.69\u001b[0m │ \u001b[36m      1.1\u001b[0m │ \u001b[36m   11386\u001b[0m │  │\n",
       "│ │ \u001b[38;5;141method    \u001b[0m │      │       │           │ \u001b[38;5;141mWallet   \u001b[0m │           │ \u001b[38;5;141mWallet   \u001b[0m │          │           │          │  │\n",
       "│ │ \u001b[38;5;141mlocation \u001b[0m │ \u001b[36m3961\u001b[0m │ \u001b[36m39.61\u001b[0m │ \u001b[38;5;141mTakeaway \u001b[0m │ \u001b[38;5;141mTakeaway \u001b[0m │ \u001b[38;5;141mIn-store \u001b[0m │ \u001b[38;5;141mTakeaway \u001b[0m │ \u001b[36m       8\u001b[0m │ \u001b[36m      0.6\u001b[0m │ \u001b[36m    6039\u001b[0m │  │\n",
       "│ └───────────┴──────┴───────┴───────────┴───────────┴───────────┴───────────┴──────────┴───────────┴──────────┘  │\n",
       "╰────────────────────────────────────────────────────── End ──────────────────────────────────────────────────────╯\n"
      ]
     },
     "metadata": {},
     "output_type": "display_data"
    }
   ],
   "source": [
    "sk.skim(data)"
   ]
  },
  {
   "cell_type": "markdown",
   "id": "cfcd0c6b",
   "metadata": {},
   "source": [
    "Step 4: Remove Records with missing transaction_dates"
   ]
  },
  {
   "cell_type": "code",
   "execution_count": 73,
   "id": "72732373",
   "metadata": {},
   "outputs": [],
   "source": [
    "data = data.dropna(subset=['transaction_date'])\n"
   ]
  },
  {
   "cell_type": "markdown",
   "id": "13e1365a",
   "metadata": {},
   "source": [
    "“Results exclude ~4.6% of rows with imputed transaction dates to avoid skew."
   ]
  },
  {
   "cell_type": "markdown",
   "id": "7e39102a",
   "metadata": {},
   "source": [
    "Step 5: Remove Records Missing Critical Transaction Data"
   ]
  },
  {
   "cell_type": "code",
   "execution_count": 74,
   "id": "9ad833b5",
   "metadata": {},
   "outputs": [],
   "source": [
    "#Deleting Records whereby Key Data is missing from the records to avoid skewing data \n",
    "data = data.dropna(subset=['quantity','price_per_unit'], how='all')\n",
    "data = data.dropna(subset=['quantity','total_spent'], how='all')\n",
    "data = data.dropna(subset=['total_spent','price_per_unit'], how='all')"
   ]
  },
  {
   "cell_type": "markdown",
   "id": "79ab3194",
   "metadata": {},
   "source": [
    "Logic & Purpose: This step removes rows where key transactional fields — quantity, price_per_unit, or total_spent — are entirely missing. These fields are essential for calculating revenue, averages, and performance metrics. If all values in a pair are missing, the record cannot be salvaged or imputed logically.\n",
    "\n",
    "Why Drop Instead of Impute?\n",
    "\n",
    "🔍 These fields are interdependent (e.g., total_spent = quantity × price_per_unit)\n",
    "\n",
    "❌ If both components are missing, there's no reliable way to reconstruct the transaction\n",
    "\n",
    "📉 Keeping such records would distort metrics like average price or total revenue\n",
    "\n",
    "Outcome: By removing these unusable rows, we improve data quality and ensure that subsequent calculations are based on complete and trustworthy information."
   ]
  },
  {
   "cell_type": "markdown",
   "id": "13de643e",
   "metadata": {},
   "source": [
    "Step 6: Convert Transaction Fields to Numeric Format"
   ]
  },
  {
   "cell_type": "code",
   "execution_count": 75,
   "id": "8f42e5dd",
   "metadata": {},
   "outputs": [],
   "source": [
    "#Converting quantity,price_per_unit,total_spent to numerical values for Revenu Analysis\n",
    "data['quantity'] = pd.to_numeric(data['quantity'],errors='coerce')\n",
    "data['price_per_unit'] = pd.to_numeric(data['price_per_unit'],errors='coerce')\n",
    "data['total_spent'] = pd.to_numeric(data['total_spent'],errors='coerce')\n"
   ]
  },
  {
   "cell_type": "markdown",
   "id": "e6ffcaff",
   "metadata": {},
   "source": [
    "Logic & Purpose: To perform accurate revenue analysis — including calculating totals, averages, and trends — the fields quantity, price_per_unit, and total_spent must be in numeric format. This step ensures that all values are treated as numbers, not strings or mixed types.\n",
    "\n",
    "Why errors='coerce'?\n",
    "\n",
    "Automatically converts non-numeric entries (e.g., \"ERROR\", \"UNKNOWN\") into NaN\n",
    "\n",
    "Prevents runtime errors during calculations\n",
    "\n",
    "Flags problematic entries for later imputation or removal\n",
    "\n",
    "Outcome: This transformation prepares the dataset for reliable financial analysis, enabling operations like:\n",
    "\n",
    "💰 Revenue aggregation\n",
    "\n",
    "📊 Average price calculations\n",
    "\n",
    "📈 Time-series revenue trends\n",
    "\n",
    "📉 Identifying underperforming products"
   ]
  },
  {
   "cell_type": "markdown",
   "id": "62c798d0",
   "metadata": {},
   "source": [
    "Step 7: Impute Missing Transaction Values Using Interdependent Columns"
   ]
  },
  {
   "cell_type": "code",
   "execution_count": 76,
   "id": "18469401",
   "metadata": {},
   "outputs": [],
   "source": [
    "#Filling In data using Current data \n",
    "data['total_spent'] = data['total_spent'].fillna(data['quantity'] * data['price_per_unit'])\n",
    "data['quantity'] = data['quantity'].fillna(data['total_spent'] / data['price_per_unit'])\n",
    "data['price_per_unit'] = data['price_per_unit'].fillna(data['total_spent'] / data['quantity'])"
   ]
  },
  {
   "cell_type": "markdown",
   "id": "b495c921",
   "metadata": {},
   "source": [
    "Logic & Purpose: The three core transaction fields — quantity, price_per_unit, and total_spent — are mathematically interdependent:\n",
    "\n",
    "total_spent = quantity × price_per_unit\n",
    "\n",
    "quantity = total_spent ÷ price_per_unit\n",
    "\n",
    "price_per_unit = total_spent ÷ quantity\n",
    "\n",
    "This relationship allows us to intelligently fill in missing values when at least two of the three fields are present. Instead of discarding incomplete records, we reconstruct the missing value using the available data.\n",
    "\n",
    "Why This Works:\n",
    "\n",
    "🧠 It’s a logic-based imputation, not a guess\n",
    "\n",
    "💡 It preserves the financial integrity of each transaction\n",
    "\n",
    "📊 It ensures that revenue calculations remain accurate and complete\n",
    "\n",
    "Outcome: This step salvages partially missing records and strengthens the dataset for reliable revenue analysis, without introducing bias or arbitrary estimates."
   ]
  },
  {
   "cell_type": "markdown",
   "id": "758fcc2c",
   "metadata": {},
   "source": [
    "The dataset was passed into a SQL table to efficiently handle missing and inconsistent values.\n",
    "By using the menu table as a reference, I ensured:\n",
    "\n",
    "Missing item names could be backfilled based on price_per_unit.\n",
    "\n",
    "Data consistency and accuracy across related columns (item, price_per_unit, quantity).\n",
    "\n",
    "👉 Purpose: enforce data integrity and prepare a clean, reliable dataset for analysis"
   ]
  },
  {
   "cell_type": "code",
   "execution_count": 77,
   "id": "71cfbbf8",
   "metadata": {},
   "outputs": [
    {
     "data": {
      "text/plain": [
       "<_duckdb.DuckDBPyConnection at 0x190b5ce2eb0>"
      ]
     },
     "execution_count": 77,
     "metadata": {},
     "output_type": "execute_result"
    }
   ],
   "source": [
    "con = db.connect()\n",
    "con.execute(\"Create table df as Select * from data\")\n",
    "\n",
    "con.execute(\"\"\"UPDATE df \n",
    "SET item = d2.item\n",
    "FROM menu AS d2\n",
    "WHERE df.price_per_unit = d2.price_$_\n",
    "  AND df.item IS NULL\n",
    "  AND df.price_per_unit IS NOT NULL\"\"\")\n"
   ]
  },
  {
   "cell_type": "code",
   "execution_count": 78,
   "id": "b0f8ec8b",
   "metadata": {},
   "outputs": [],
   "source": [
    "data = con.execute(\"Select * from df \").df()"
   ]
  },
  {
   "cell_type": "markdown",
   "id": "74a6222d",
   "metadata": {},
   "source": [
    "Step 8: Replace Missing Categorical Values with Standard Placeholders"
   ]
  },
  {
   "cell_type": "code",
   "execution_count": 79,
   "id": "801b57ad",
   "metadata": {},
   "outputs": [],
   "source": [
    "#Establishing Null Values to A common Description \n",
    "data['payment_method'] = data['payment_method'].fillna('Undefined')\n",
    "data['location'] = data['location'].fillna(\"Undefined\")"
   ]
  },
  {
   "cell_type": "markdown",
   "id": "eea87261",
   "metadata": {},
   "source": [
    "Logic & Purpose: After identifying and converting inconsistent entries (\"ERROR\", \"UNKNOWN\") to NaN, we assign meaningful placeholder values to missing categorical fields. This ensures that:\n",
    "\n",
    "🧾 All records remain usable for grouping and analysis\n",
    "\n",
    "📊 Visualizations and summaries don’t break due to missing categories\n",
    "\n",
    "🧠 The placeholders signal data quality issues without discarding valuable rows\n",
    "\n",
    "Why These Labels?\n",
    "\n",
    "\"Other\" for item: Indicates an unclassified or unknown product\n",
    "\n",
    "\"Undefined\" for payment_method and location: Flags incomplete data while preserving transaction context\n",
    "\n",
    "Outcome: This step improves dataset completeness and analytical flexibility, especially when generating bar charts, pie charts, or grouped summaries by item, payment method, or location."
   ]
  },
  {
   "cell_type": "markdown",
   "id": "68cefa38",
   "metadata": {},
   "source": [
    "Part 2 : EDA"
   ]
  },
  {
   "cell_type": "markdown",
   "id": "da92cd8a",
   "metadata": {},
   "source": [
    "## Business Questions\n",
    "1.Which items and categories drive the most revenue?\n",
    "2.Are the top-selling items also the most profitable?\n",
    "3.What are the busiest days (weekday vs weekend)?\n",
    "4.How do payment methods impact sales (fees, preferences)?\n",
    "5.Can we detect cross-selling patterns (if data structure allows)?"
   ]
  },
  {
   "cell_type": "code",
   "execution_count": 80,
   "id": "05027523",
   "metadata": {},
   "outputs": [
    {
     "name": "stderr",
     "output_type": "stream",
     "text": [
      "C:\\Users\\Prime\\AppData\\Local\\Temp\\ipykernel_1476\\1730553192.py:39: UserWarning: Glyph 127850 (\\N{COOKIE}) missing from font(s) DejaVu Sans.\n",
      "  plt.tight_layout()\n",
      "C:\\Users\\Prime\\AppData\\Local\\Temp\\ipykernel_1476\\1730553192.py:40: UserWarning: Glyph 127850 (\\N{COOKIE}) missing from font(s) DejaVu Sans.\n",
      "  plt.savefig(\"images/snack_revenue.png\", dpi=300)\n",
      "c:\\Users\\Prime\\Music\\Projects 25\\.venv\\Lib\\site-packages\\IPython\\core\\pylabtools.py:170: UserWarning: Glyph 127850 (\\N{COOKIE}) missing from font(s) DejaVu Sans.\n",
      "  fig.canvas.print_figure(bytes_io, **kw)\n"
     ]
    },
    {
     "data": {
      "image/png": "[encoded data removed]",
      "text/plain": [
       "<Figure size 800x500 with 1 Axes>"
      ]
     },
     "metadata": {},
     "output_type": "display_data"
    },
    {
     "name": "stderr",
     "output_type": "stream",
     "text": [
      "C:\\Users\\Prime\\AppData\\Local\\Temp\\ipykernel_1476\\1730553192.py:50: UserWarning: Glyph 129380 (\\N{CUP WITH STRAW}) missing from font(s) DejaVu Sans.\n",
      "  plt.tight_layout()\n",
      "C:\\Users\\Prime\\AppData\\Local\\Temp\\ipykernel_1476\\1730553192.py:51: UserWarning: Glyph 129380 (\\N{CUP WITH STRAW}) missing from font(s) DejaVu Sans.\n",
      "  plt.savefig(\"images/drink_revenue.png\", dpi=300)\n",
      "c:\\Users\\Prime\\Music\\Projects 25\\.venv\\Lib\\site-packages\\IPython\\core\\pylabtools.py:170: UserWarning: Glyph 129380 (\\N{CUP WITH STRAW}) missing from font(s) DejaVu Sans.\n",
      "  fig.canvas.print_figure(bytes_io, **kw)\n"
     ]
    },
    {
     "data": {
      "image/png": "[encoded data removed]",
      "text/plain": [
       "<Figure size 800x500 with 1 Axes>"
      ]
     },
     "metadata": {},
     "output_type": "display_data"
    },
    {
     "name": "stderr",
     "output_type": "stream",
     "text": [
      "C:\\Users\\Prime\\AppData\\Local\\Temp\\ipykernel_1476\\1730553192.py:67: UserWarning: Glyph 128202 (\\N{BAR CHART}) missing from font(s) DejaVu Sans.\n",
      "  plt.tight_layout()\n",
      "C:\\Users\\Prime\\AppData\\Local\\Temp\\ipykernel_1476\\1730553192.py:68: UserWarning: Glyph 128202 (\\N{BAR CHART}) missing from font(s) DejaVu Sans.\n",
      "  plt.savefig(\"images/category_comparison.png\", dpi=300)\n",
      "c:\\Users\\Prime\\Music\\Projects 25\\.venv\\Lib\\site-packages\\IPython\\core\\pylabtools.py:170: UserWarning: Glyph 128202 (\\N{BAR CHART}) missing from font(s) DejaVu Sans.\n",
      "  fig.canvas.print_figure(bytes_io, **kw)\n"
     ]
    },
    {
     "data": {
      "image/png": "[encoded data removed]",
      "text/plain": [
       "<Figure size 800x500 with 1 Axes>"
      ]
     },
     "metadata": {},
     "output_type": "display_data"
    }
   ],
   "source": [
    "import seaborn as sns\n",
    "import matplotlib.pyplot as plt\n",
    "import os\n",
    "\n",
    "# ensure the images folder exists\n",
    "os.makedirs(\"images\", exist_ok=True)\n",
    "\n",
    "# --- Snacks Revenue & Volume ---\n",
    "snacks_query = \"\"\"\n",
    "SELECT item,\n",
    "       SUM(total_spent) AS Revenue,\n",
    "       COUNT(item) AS Volume\n",
    "FROM data\n",
    "WHERE item IN ('Cookie','Salad','Cake','Sandwich')\n",
    "GROUP BY item\n",
    "ORDER BY Revenue DESC, Volume DESC\n",
    "\"\"\"\n",
    "snacks_df = db.query(snacks_query).df()\n",
    "\n",
    "# --- Drinks Revenue & Volume ---\n",
    "drinks_query = \"\"\"\n",
    "SELECT item,\n",
    "       SUM(total_spent) AS Revenue,\n",
    "       COUNT(item) AS Volume\n",
    "FROM data\n",
    "WHERE item IN ('Smoothie','Tea','Coffee','Juice')\n",
    "GROUP BY item\n",
    "ORDER BY Revenue DESC, Volume DESC\n",
    "\"\"\"\n",
    "drinks_df = db.query(drinks_query).df()\n",
    "\n",
    "# --- Plot Snacks Revenue ---\n",
    "plt.figure(figsize=(8,5))\n",
    "sns.barplot(data=snacks_df, x=\"item\", y=\"Revenue\", hue=\"item\", palette=\"muted\")\n",
    "plt.title(\"🍪 Snack Revenue Performance\")\n",
    "plt.xlabel(\"Snack Item\")\n",
    "plt.ylabel(\"Total Revenue ($)\")\n",
    "plt.legend([],[], frameon=False)  # remove redundant legend\n",
    "plt.tight_layout()\n",
    "plt.savefig(\"images/snack_revenue.png\", dpi=300)\n",
    "plt.show()\n",
    "\n",
    "# --- Plot Drinks Revenue ---\n",
    "plt.figure(figsize=(8,5))\n",
    "sns.barplot(data=drinks_df, x=\"item\", y=\"Revenue\", hue=\"item\", palette=\"muted\")\n",
    "plt.title(\"🥤 Drink Revenue Performance\")\n",
    "plt.xlabel(\"Drink Item\")\n",
    "plt.ylabel(\"Total Revenue ($)\")\n",
    "plt.legend([],[], frameon=False)\n",
    "plt.tight_layout()\n",
    "plt.savefig(\"images/drink_revenue.png\", dpi=300)\n",
    "plt.show()\n",
    "\n",
    "# --- Combined Category-Level Comparison ---\n",
    "combined_df = (\n",
    "    pd.concat([snacks_df.assign(Category=\"Snacks\"),\n",
    "               drinks_df.assign(Category=\"Drinks\")])\n",
    "    .groupby(\"Category\", as_index=False)\n",
    "    .agg({\"Revenue\": \"sum\"})\n",
    ")\n",
    "\n",
    "plt.figure(figsize=(8,5))\n",
    "sns.barplot(data=combined_df, x=\"Category\", y=\"Revenue\", hue=\"Category\", palette=\"Set2\")\n",
    "plt.title(\"📊 Revenue Comparison: Snacks vs Drinks\")\n",
    "plt.ylabel(\"Total Revenue ($)\")\n",
    "plt.legend([],[], frameon=False)\n",
    "plt.tight_layout()\n",
    "plt.savefig(\"images/category_comparison.png\", dpi=300)\n",
    "plt.show()\n"
   ]
  },
  {
   "cell_type": "code",
   "execution_count": 81,
   "id": "7dbdedf6",
   "metadata": {},
   "outputs": [
    {
     "name": "stderr",
     "output_type": "stream",
     "text": [
      "C:\\Users\\Prime\\AppData\\Local\\Temp\\ipykernel_1476\\3496088093.py:9: FutureWarning: \n",
      "\n",
      "Passing `palette` without assigning `hue` is deprecated and will be removed in v0.14.0. Assign the `x` variable to `hue` and set `legend=False` for the same effect.\n",
      "\n",
      "  sns.barplot(data=payment_summary, x='payment_method', y='total_revenue', palette='Set2')\n",
      "C:\\Users\\Prime\\AppData\\Local\\Temp\\ipykernel_1476\\3496088093.py:14: UserWarning: Glyph 128179 (\\N{CREDIT CARD}) missing from font(s) DejaVu Sans.\n",
      "  plt.tight_layout()\n",
      "c:\\Users\\Prime\\Music\\Projects 25\\.venv\\Lib\\site-packages\\IPython\\core\\pylabtools.py:170: UserWarning: Glyph 128179 (\\N{CREDIT CARD}) missing from font(s) DejaVu Sans.\n",
      "  fig.canvas.print_figure(bytes_io, **kw)\n"
     ]
    },
    {
     "data": {
      "image/png": "[encoded data removed]",
      "text/plain": [
       "<Figure size 800x500 with 1 Axes>"
      ]
     },
     "metadata": {},
     "output_type": "display_data"
    },
    {
     "name": "stderr",
     "output_type": "stream",
     "text": [
      "C:\\Users\\Prime\\AppData\\Local\\Temp\\ipykernel_1476\\3496088093.py:19: FutureWarning: \n",
      "\n",
      "Passing `palette` without assigning `hue` is deprecated and will be removed in v0.14.0. Assign the `x` variable to `hue` and set `legend=False` for the same effect.\n",
      "\n",
      "  sns.barplot(data=payment_summary, x='payment_method', y='transaction_count', palette='Set3')\n",
      "C:\\Users\\Prime\\AppData\\Local\\Temp\\ipykernel_1476\\3496088093.py:24: UserWarning: Glyph 128202 (\\N{BAR CHART}) missing from font(s) DejaVu Sans.\n",
      "  plt.tight_layout()\n",
      "c:\\Users\\Prime\\Music\\Projects 25\\.venv\\Lib\\site-packages\\IPython\\core\\pylabtools.py:170: UserWarning: Glyph 128202 (\\N{BAR CHART}) missing from font(s) DejaVu Sans.\n",
      "  fig.canvas.print_figure(bytes_io, **kw)\n"
     ]
    },
    {
     "data": {
      "image/png": "[encoded data removed]",
      "text/plain": [
       "<Figure size 800x500 with 1 Axes>"
      ]
     },
     "metadata": {},
     "output_type": "display_data"
    }
   ],
   "source": [
    "# --- Aggregate payment method data ---\n",
    "payment_summary = data.groupby('payment_method').agg(\n",
    "    total_revenue=('total_spent', 'sum'),\n",
    "    transaction_count=('transaction_id', 'count')\n",
    ").reset_index()\n",
    "\n",
    "# --- Plot total revenue by payment method ---\n",
    "plt.figure(figsize=(8,5))\n",
    "sns.barplot(data=payment_summary, x='payment_method', y='total_revenue', palette='Set2')\n",
    "plt.title(\"💳 Total Revenue by Payment Method\")\n",
    "plt.xlabel(\"Payment Method\")\n",
    "plt.ylabel(\"Revenue ($)\")\n",
    "plt.xticks(rotation=30)\n",
    "plt.tight_layout()\n",
    "plt.show()\n",
    "\n",
    "# --- Plot transaction count by payment method ---\n",
    "plt.figure(figsize=(8,5))\n",
    "sns.barplot(data=payment_summary, x='payment_method', y='transaction_count', palette='Set3')\n",
    "plt.title(\"📊 Transaction Count by Payment Method\")\n",
    "plt.xlabel(\"Payment Method\")\n",
    "plt.ylabel(\"Number of Transactions\")\n",
    "plt.xticks(rotation=30)\n",
    "plt.tight_layout()\n",
    "plt.show()"
   ]
  },
  {
   "cell_type": "markdown",
   "id": "e4b551a9",
   "metadata": {},
   "source": [
    "Key Findings & Insights\n",
    "\n",
    "Revenue Leaders\n",
    "\n",
    "Coffee and Smoothies generated the highest revenue.\n",
    "\n",
    "These were also among the top-selling items by quantity, proving their strong demand.\n",
    "\n",
    "Quantity vs Revenue\n",
    "\n",
    "Items like Tea and Cookies sold in large quantities but contributed less revenue.\n",
    "\n",
    "This shows popularity ≠ profitability.\n",
    "\n",
    "Category Breakdown\n",
    "\n",
    "Drinks dominated overall revenue compared to Snacks.\n",
    "\n",
    "However, some Snacks (e.g., Cookies) were high-volume but low-revenue, signaling untapped opportunities.\n",
    "\n",
    "Sales Behavior Patterns\n",
    "\n",
    "Customer payment methods and cafe locations showed inconsistencies that could be aligned with loyalty insights.\n",
    "\n",
    "Cleaned data is now reliable for customer segmentation and location-based analysis.\n",
    "\n",
    "🚀 Recommended Strategies\n",
    "\n",
    "Price Optimization: Adjust pricing of high-volume, low-revenue items (like Cookies/Tea) to maximize margins.\n",
    "\n",
    "Promotions & Bundling: Pair popular but low-revenue items with high-margin items (e.g., Coffee + Cookie combo).\n",
    "\n",
    "Demand Forecasting: Use time-series models to predict sales peaks and optimize stock levels.\n",
    "\n",
    "Customer Behavior Segmentation: Explore sales by location and payment method to guide targeted marketing.\n",
    "\n",
    "Automated Data Quality Monitoring: Implement checks to catch missing or invalid entries in future sales data."
   ]
  }
 ],
 "metadata": {
  "kernelspec": {
   "display_name": ".venv",
   "language": "python",
   "name": "python3"
  },
  "language_info": {
   "codemirror_mode": {
    "name": "ipython",
    "version": 3
   },
   "file_extension": ".py",
   "mimetype": "text/x-python",
   "name": "python",
   "nbconvert_exporter": "python",
   "pygments_lexer": "ipython3",
   "version": "3.13.7"
  }
 },
 "nbformat": 4,
 "nbformat_minor": 5
}
